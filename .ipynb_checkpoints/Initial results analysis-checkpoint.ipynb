{
 "cells": [
  {
   "cell_type": "code",
   "execution_count": 32,
   "metadata": {
    "collapsed": false
   },
   "outputs": [],
   "source": [
    "%matplotlib inline\n",
    "import pandas as pd\n",
    "import matplotlib.pyplot as plt\n",
    "import numpy as np"
   ]
  },
  {
   "cell_type": "markdown",
   "metadata": {},
   "source": [
    "Ok so I asked Soomin to run a naive Bayes classifier on some labeled data and to use the labeled words from those analyses to get positive-negative rankings for each word and then to calculate the average sentiment of each Tweet in our experiment. Positive values indicate more positive sentiments (and likewise for negative)"
   ]
  },
  {
   "cell_type": "markdown",
   "metadata": {},
   "source": [
    "First, a helper function to identify the emotion of each Tweet"
   ]
  },
  {
   "cell_type": "code",
   "execution_count": 48,
   "metadata": {
    "collapsed": true
   },
   "outputs": [],
   "source": [
    "def find_emotion(x):\n",
    "    if (':)' in x) or (':-)' in x) or (': )' in x):\n",
    "        return 'Pos'\n",
    "    elif (':(' in x) or (':-(' in x) or (': (' in x): \n",
    "        return 'Neg'\n",
    "    else:\n",
    "        return 'Neut'"
   ]
  },
  {
   "cell_type": "markdown",
   "metadata": {},
   "source": [
    "## Original Tweets"
   ]
  },
  {
   "cell_type": "code",
   "execution_count": 49,
   "metadata": {
    "collapsed": false
   },
   "outputs": [
    {
     "data": {
      "text/html": [
       "<div>\n",
       "<table border=\"1\" class=\"dataframe\">\n",
       "  <thead>\n",
       "    <tr style=\"text-align: right;\">\n",
       "      <th></th>\n",
       "      <th>tweet</th>\n",
       "      <th>sent</th>\n",
       "      <th>emot</th>\n",
       "    </tr>\n",
       "  </thead>\n",
       "  <tbody>\n",
       "    <tr>\n",
       "      <th>0</th>\n",
       "      <td>rememb   rsvp     free writer workshop next t...</td>\n",
       "      <td>-3.821306</td>\n",
       "      <td>Neg</td>\n",
       "    </tr>\n",
       "    <tr>\n",
       "      <th>1</th>\n",
       "      <td>7-year-old sign   real madrid     start septe...</td>\n",
       "      <td>-2.059097</td>\n",
       "      <td>Neg</td>\n",
       "    </tr>\n",
       "    <tr>\n",
       "      <th>2</th>\n",
       "      <td>#media #us #ru klitschko   big hit   ukrainia...</td>\n",
       "      <td>-0.075321</td>\n",
       "      <td>Pos</td>\n",
       "    </tr>\n",
       "    <tr>\n",
       "      <th>3</th>\n",
       "      <td>rt @quizderek: elvi presley 34th death annive...</td>\n",
       "      <td>-0.767812</td>\n",
       "      <td>Neut</td>\n",
       "    </tr>\n",
       "    <tr>\n",
       "      <th>4</th>\n",
       "      <td>we     search   card section manag   muscat, ...</td>\n",
       "      <td>-4.720670</td>\n",
       "      <td>Neut</td>\n",
       "    </tr>\n",
       "  </tbody>\n",
       "</table>\n",
       "</div>"
      ],
      "text/plain": [
       "                                               tweet      sent  emot\n",
       "0   rememb   rsvp     free writer workshop next t... -3.821306   Neg\n",
       "1   7-year-old sign   real madrid     start septe... -2.059097   Neg\n",
       "2   #media #us #ru klitschko   big hit   ukrainia... -0.075321   Pos\n",
       "3   rt @quizderek: elvi presley 34th death annive... -0.767812  Neut\n",
       "4   we     search   card section manag   muscat, ... -4.720670  Neut"
      ]
     },
     "execution_count": 49,
     "metadata": {},
     "output_type": "execute_result"
    },
    {
     "data": {
      "image/png": "[encoded data removed]",
      "text/plain": [
       "<matplotlib.figure.Figure at 0x118acdf10>"
      ]
     },
     "metadata": {},
     "output_type": "display_data"
    }
   ],
   "source": [
    "obs_df=pd.read_csv('data_v1/obs_tweet_score.csv',header=None)\n",
    "obs_df.columns=['tweet','sent']\n",
    "obs_df.loc[:,'emot']=obs_df.loc[:,'tweet'].apply(find_emotion)\n",
    "obs_df.sent.hist()\n",
    "obs_df.head()"
   ]
  },
  {
   "cell_type": "code",
   "execution_count": 50,
   "metadata": {
    "collapsed": false
   },
   "outputs": [
    {
     "data": {
      "text/html": [
       "<div>\n",
       "<table border=\"1\" class=\"dataframe\">\n",
       "  <thead>\n",
       "    <tr style=\"text-align: right;\">\n",
       "      <th></th>\n",
       "      <th>emot</th>\n",
       "      <th>mean</th>\n",
       "      <th>sem</th>\n",
       "    </tr>\n",
       "  </thead>\n",
       "  <tbody>\n",
       "    <tr>\n",
       "      <th>0</th>\n",
       "      <td>Neg</td>\n",
       "      <td>-2.316897</td>\n",
       "      <td>0.224629</td>\n",
       "    </tr>\n",
       "    <tr>\n",
       "      <th>1</th>\n",
       "      <td>Neut</td>\n",
       "      <td>-2.099365</td>\n",
       "      <td>0.202453</td>\n",
       "    </tr>\n",
       "    <tr>\n",
       "      <th>2</th>\n",
       "      <td>Pos</td>\n",
       "      <td>-2.015161</td>\n",
       "      <td>0.230284</td>\n",
       "    </tr>\n",
       "  </tbody>\n",
       "</table>\n",
       "</div>"
      ],
      "text/plain": [
       "   emot      mean       sem\n",
       "0   Neg -2.316897  0.224629\n",
       "1  Neut -2.099365  0.202453\n",
       "2   Pos -2.015161  0.230284"
      ]
     },
     "execution_count": 50,
     "metadata": {},
     "output_type": "execute_result"
    }
   ],
   "source": [
    "obs_emotions=obs_df.loc[:,['sent','emot']].groupby('emot')\n",
    "\n",
    "obs_mean=obs_emotions.mean().reset_index()\n",
    "obs_sem=obs_emotions.std().divide(np.sqrt(obs_emotions.size()),axis=0).reset_index()\n",
    "\n",
    "obs_group=pd.merge(obs_mean,obs_sem,on='emot')\n",
    "obs_group.columns=['emot','mean','sem']\n",
    "obs_group"
   ]
  },
  {
   "cell_type": "markdown",
   "metadata": {},
   "source": [
    "Ok, no initial difference in emotional valence, which makes sense since these were neutral tweets we gave random emotions"
   ]
  },
  {
   "cell_type": "markdown",
   "metadata": {},
   "source": [
    "## Recalled Tweets"
   ]
  },
  {
   "cell_type": "code",
   "execution_count": 51,
   "metadata": {
    "collapsed": false
   },
   "outputs": [
    {
     "data": {
      "text/html": [
       "<div>\n",
       "<table border=\"1\" class=\"dataframe\">\n",
       "  <thead>\n",
       "    <tr style=\"text-align: right;\">\n",
       "      <th></th>\n",
       "      <th>tweet</th>\n",
       "      <th>sent</th>\n",
       "      <th>emot</th>\n",
       "    </tr>\n",
       "  </thead>\n",
       "  <tbody>\n",
       "    <tr>\n",
       "      <th>0</th>\n",
       "      <td>wppi   vega bound,             50  . . oh wel...</td>\n",
       "      <td>-2.441299</td>\n",
       "      <td>Neg</td>\n",
       "    </tr>\n",
       "    <tr>\n",
       "      <th>1</th>\n",
       "      <td>it   5=30  . .   new york. expect develop    ...</td>\n",
       "      <td>-1.768114</td>\n",
       "      <td>Neg</td>\n",
       "    </tr>\n",
       "    <tr>\n",
       "      <th>2</th>\n",
       "      <td>in   sport world kenseth ...avoid pile- .. dega</td>\n",
       "      <td>-0.275544</td>\n",
       "      <td>Neut</td>\n",
       "    </tr>\n",
       "    <tr>\n",
       "      <th>3</th>\n",
       "      <td>#redsox     4th catcher   catch     hitter   ...</td>\n",
       "      <td>-4.978677</td>\n",
       "      <td>Neut</td>\n",
       "    </tr>\n",
       "    <tr>\n",
       "      <th>4</th>\n",
       "      <td>#ncst they extend   lead     lorenzo trey 11-...</td>\n",
       "      <td>-1.664177</td>\n",
       "      <td>Pos</td>\n",
       "    </tr>\n",
       "  </tbody>\n",
       "</table>\n",
       "</div>"
      ],
      "text/plain": [
       "                                               tweet      sent  emot\n",
       "0   wppi   vega bound,             50  . . oh wel... -2.441299   Neg\n",
       "1   it   5=30  . .   new york. expect develop    ... -1.768114   Neg\n",
       "2    in   sport world kenseth ...avoid pile- .. dega -0.275544  Neut\n",
       "3   #redsox     4th catcher   catch     hitter   ... -4.978677  Neut\n",
       "4   #ncst they extend   lead     lorenzo trey 11-... -1.664177   Pos"
      ]
     },
     "execution_count": 51,
     "metadata": {},
     "output_type": "execute_result"
    },
    {
     "data": {
      "image/png": "[encoded data removed]",
      "text/plain": [
       "<matplotlib.figure.Figure at 0x119089c50>"
      ]
     },
     "metadata": {},
     "output_type": "display_data"
    }
   ],
   "source": [
    "resp_df=pd.read_csv('data_v1/rec_tweet_score.csv',header=None)\n",
    "resp_df.columns=['tweet','sent']\n",
    "resp_df.loc[:,'emot']=resp_df.loc[:,'tweet'].apply(find_emotion)\n",
    "\n",
    "resp_df.sent.hist()\n",
    "resp_df.head()"
   ]
  },
  {
   "cell_type": "code",
   "execution_count": 52,
   "metadata": {
    "collapsed": false
   },
   "outputs": [
    {
     "data": {
      "text/html": [
       "<div>\n",
       "<table border=\"1\" class=\"dataframe\">\n",
       "  <thead>\n",
       "    <tr style=\"text-align: right;\">\n",
       "      <th></th>\n",
       "      <th>emot</th>\n",
       "      <th>mean</th>\n",
       "      <th>sem</th>\n",
       "    </tr>\n",
       "  </thead>\n",
       "  <tbody>\n",
       "    <tr>\n",
       "      <th>0</th>\n",
       "      <td>Neg</td>\n",
       "      <td>-2.406248</td>\n",
       "      <td>0.249077</td>\n",
       "    </tr>\n",
       "    <tr>\n",
       "      <th>1</th>\n",
       "      <td>Neut</td>\n",
       "      <td>-1.739296</td>\n",
       "      <td>0.115795</td>\n",
       "    </tr>\n",
       "    <tr>\n",
       "      <th>2</th>\n",
       "      <td>Pos</td>\n",
       "      <td>-2.002941</td>\n",
       "      <td>0.214250</td>\n",
       "    </tr>\n",
       "  </tbody>\n",
       "</table>\n",
       "</div>"
      ],
      "text/plain": [
       "   emot      mean       sem\n",
       "0   Neg -2.406248  0.249077\n",
       "1  Neut -1.739296  0.115795\n",
       "2   Pos -2.002941  0.214250"
      ]
     },
     "execution_count": 52,
     "metadata": {},
     "output_type": "execute_result"
    }
   ],
   "source": [
    "resp_emotions=resp_df.loc[:,['sent','emot']].groupby('emot')\n",
    "\n",
    "resp_mean=resp_emotions.mean().reset_index()\n",
    "resp_sem=resp_emotions.std().divide(np.sqrt(resp_emotions.size()),axis=0).reset_index()\n",
    "\n",
    "resp_group=pd.merge(resp_mean,resp_sem,on='emot')\n",
    "resp_group.columns=['emot','mean','sem']\n",
    "resp_group"
   ]
  },
  {
   "cell_type": "markdown",
   "metadata": {},
   "source": [
    "Hmmm doesn't seem like we're seeing an effect here. I think there's something my emotion identification code is missing because the number of Tweets from each category becomes imbalanced. These might be the recalled Tweets without the next iteration processing set up?"
   ]
  },
  {
   "cell_type": "markdown",
   "metadata": {},
   "source": [
    "Notes to self:\n",
    "* Need to check with Soomin about what iteration this is\n",
    "* I think my emotion identfication code is off. check what's up with that"
   ]
  },
  {
   "cell_type": "code",
   "execution_count": 53,
   "metadata": {
    "collapsed": false
   },
   "outputs": [
    {
     "name": "stdout",
     "output_type": "stream",
     "text": [
      "emot\n",
      "Neg      40\n",
      "Neut    263\n",
      "Pos      80\n",
      "dtype: int64\n",
      "emot\n",
      "Neg     34\n",
      "Neut    51\n",
      "Pos     47\n",
      "dtype: int64\n"
     ]
    }
   ],
   "source": [
    "print resp_emotions.size()\n",
    "print obs_emotions.size()"
   ]
  },
  {
   "cell_type": "code",
   "execution_count": null,
   "metadata": {
    "collapsed": true
   },
   "outputs": [],
   "source": []
  }
 ],
 "metadata": {
  "kernelspec": {
   "display_name": "Python 2",
   "language": "python",
   "name": "python2"
  },
  "language_info": {
   "codemirror_mode": {
    "name": "ipython",
    "version": 2
   },
   "file_extension": ".py",
   "mimetype": "text/x-python",
   "name": "python",
   "nbconvert_exporter": "python",
   "pygments_lexer": "ipython2",
   "version": "2.7.9"
  }
 },
 "nbformat": 4,
 "nbformat_minor": 0
}
