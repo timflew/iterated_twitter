{
 "cells": [
  {
   "cell_type": "markdown",
   "metadata": {},
   "source": [
    "# Iterated Tweets Experiment"
   ]
  },
  {
   "cell_type": "markdown",
   "metadata": {},
   "source": [
    "## Motivation"
   ]
  },
  {
   "cell_type": "markdown",
   "metadata": {},
   "source": [
    "This was a high-risk, high-reward (ideally low-investment) project on how people process emoticons in Tweets. Many studies have used emoticons to label Tweets for supervised(-ish) classifier training, a procedure known as [\"Distant Supervision\"](http://web.stanford.edu/~jurafsky/mintz.pdf). In its basic implementation:\n",
    "\n",
    "1. A corpus of Tweets is collected\n",
    "2. Tweets containing positive ( :) ) and negative emoticons ( :( ) are identified and labeled as positive or negative\n",
    "3. The emoticons are then stripped from those Tweets and the classifier is trained on them\n",
    "4. The classifier is applied to a testing set.\n",
    "\n",
    "And this works pretty well and has the perk of not requiring you to get a bunch of people on mturk to label Tweets by hand! \n",
    "\n",
    "The project is going to spice this up by adding some Psychology into the mix--How do people remember Tweets if we randomly add positive and negative emoticons to them? If this technique works, it could have some useful implications for classification tasks in general. There are many situations where there are not clear labeled examples such as situations in which emoticons are considered inappropriate (e.g., deaths) or where the baserate of category expression is low ([inferring political preferences based on Tweets is hindered by most Republicans and Democrats who aren't elected officials posting very little political content](https://www.aaai.org/ocs/index.php/ICWSM/ICWSM13/paper/viewFile/6128/6347))"
   ]
  },
  {
   "cell_type": "markdown",
   "metadata": {},
   "source": [
    "# Experiment"
   ]
  },
  {
   "cell_type": "markdown",
   "metadata": {},
   "source": [
    "And so I scraped some Tweets and then set up an iterated learning experiment in lab. So in that experiment, I selected 48 neutral Tweets and added either positive, negative or no emoticon to them (evenly split). Participants would study all the Tweets for 15 seconds each and recall them after a 2 second delay. And then the next participant would recall the Tweets recalled by the previous participant, and so on. \n",
    "\n",
    "This document contains the results."
   ]
  },
  {
   "cell_type": "markdown",
   "metadata": {},
   "source": [
    "# Load packages"
   ]
  },
  {
   "cell_type": "code",
   "execution_count": 141,
   "metadata": {
    "collapsed": true
   },
   "outputs": [],
   "source": [
    "%matplotlib inline\n",
    "import os\n",
    "import pickle as pk\n",
    "import pandas as pd\n",
    "import numpy as np\n",
    "import matplotlib.pyplot as plt\n",
    "import seaborn as sns\n",
    "import tweet_preprocess\n",
    "sns.set_style(\"whitegrid\")"
   ]
  },
  {
   "cell_type": "markdown",
   "metadata": {},
   "source": [
    "# Setting up the data"
   ]
  },
  {
   "cell_type": "code",
   "execution_count": 251,
   "metadata": {
    "collapsed": true
   },
   "outputs": [],
   "source": [
    "tweets_df=pd.read_csv('itTwit_v2_data.csv',header=None)\n",
    "tweets_df.columns=['index','subj','exp_id',\n",
    "                   'chain','iter','tweet',\n",
    "                   'observed','recalled','processed',\n",
    "                   'claim_time','claim_by',\n",
    "                   'emotion','emoticon',\n",
    "                   'status']"
   ]
  },
  {
   "cell_type": "markdown",
   "metadata": {},
   "source": [
    "I ran 9 chains for up to 11 iterations (some of the chains lagged behind). Each chain intially contained the same Tweets but diverged as participants recalled them."
   ]
  },
  {
   "cell_type": "code",
   "execution_count": 8,
   "metadata": {
    "collapsed": false
   },
   "outputs": [
    {
     "data": {
      "text/html": [
       "<div>\n",
       "<table border=\"1\" class=\"dataframe\">\n",
       "  <thead>\n",
       "    <tr style=\"text-align: right;\">\n",
       "      <th></th>\n",
       "      <th>index</th>\n",
       "      <th>subj</th>\n",
       "      <th>exp_id</th>\n",
       "      <th>chain</th>\n",
       "      <th>iter</th>\n",
       "      <th>tweet</th>\n",
       "      <th>observed</th>\n",
       "      <th>recalled</th>\n",
       "      <th>processed</th>\n",
       "      <th>claim_time</th>\n",
       "      <th>claim_by</th>\n",
       "      <th>emotion</th>\n",
       "      <th>emoticon</th>\n",
       "      <th>status</th>\n",
       "    </tr>\n",
       "  </thead>\n",
       "  <tbody>\n",
       "    <tr>\n",
       "      <th>0</th>\n",
       "      <td>892</td>\n",
       "      <td>base0</td>\n",
       "      <td>itTwit_v2</td>\n",
       "      <td>0</td>\n",
       "      <td>0</td>\n",
       "      <td>0</td>\n",
       "      <td>NaN</td>\n",
       "      <td>NaN</td>\n",
       "      <td>Entourage then going to Eagles training camp t...</td>\n",
       "      <td>2016-04-04 11:46:26</td>\n",
       "      <td>C02SH</td>\n",
       "      <td>1.0</td>\n",
       "      <td>: (</td>\n",
       "      <td>complete</td>\n",
       "    </tr>\n",
       "    <tr>\n",
       "      <th>1</th>\n",
       "      <td>893</td>\n",
       "      <td>base0</td>\n",
       "      <td>itTwit_v2</td>\n",
       "      <td>0</td>\n",
       "      <td>0</td>\n",
       "      <td>1</td>\n",
       "      <td>NaN</td>\n",
       "      <td>NaN</td>\n",
       "      <td>#NCST extend their biggest lead of the game wi...</td>\n",
       "      <td>2016-04-04 11:46:26</td>\n",
       "      <td>C02SH</td>\n",
       "      <td>0.0</td>\n",
       "      <td>: )</td>\n",
       "      <td>complete</td>\n",
       "    </tr>\n",
       "    <tr>\n",
       "      <th>2</th>\n",
       "      <td>894</td>\n",
       "      <td>base0</td>\n",
       "      <td>itTwit_v2</td>\n",
       "      <td>0</td>\n",
       "      <td>0</td>\n",
       "      <td>2</td>\n",
       "      <td>NaN</td>\n",
       "      <td>NaN</td>\n",
       "      <td>#Everton News - Krul will miss the Monday nigh...</td>\n",
       "      <td>2016-04-04 11:46:26</td>\n",
       "      <td>C02SH</td>\n",
       "      <td>2.0</td>\n",
       "      <td>NaN</td>\n",
       "      <td>complete</td>\n",
       "    </tr>\n",
       "    <tr>\n",
       "      <th>3</th>\n",
       "      <td>895</td>\n",
       "      <td>base0</td>\n",
       "      <td>itTwit_v2</td>\n",
       "      <td>0</td>\n",
       "      <td>0</td>\n",
       "      <td>3</td>\n",
       "      <td>NaN</td>\n",
       "      <td>NaN</td>\n",
       "      <td>Whew, long day unpacking the Turner house. Now...</td>\n",
       "      <td>2016-04-04 11:46:26</td>\n",
       "      <td>C02SH</td>\n",
       "      <td>0.0</td>\n",
       "      <td>:)</td>\n",
       "      <td>complete</td>\n",
       "    </tr>\n",
       "    <tr>\n",
       "      <th>4</th>\n",
       "      <td>896</td>\n",
       "      <td>base0</td>\n",
       "      <td>itTwit_v2</td>\n",
       "      <td>0</td>\n",
       "      <td>0</td>\n",
       "      <td>4</td>\n",
       "      <td>NaN</td>\n",
       "      <td>NaN</td>\n",
       "      <td>Nothing is going to change between now and Wed...</td>\n",
       "      <td>2016-04-04 11:46:26</td>\n",
       "      <td>C02SH</td>\n",
       "      <td>0.0</td>\n",
       "      <td>:)</td>\n",
       "      <td>complete</td>\n",
       "    </tr>\n",
       "  </tbody>\n",
       "</table>\n",
       "</div>"
      ],
      "text/plain": [
       "   index   subj     exp_id  chain  iter  tweet observed recalled  \\\n",
       "0    892  base0  itTwit_v2      0     0      0      NaN      NaN   \n",
       "1    893  base0  itTwit_v2      0     0      1      NaN      NaN   \n",
       "2    894  base0  itTwit_v2      0     0      2      NaN      NaN   \n",
       "3    895  base0  itTwit_v2      0     0      3      NaN      NaN   \n",
       "4    896  base0  itTwit_v2      0     0      4      NaN      NaN   \n",
       "\n",
       "                                           processed           claim_time  \\\n",
       "0  Entourage then going to Eagles training camp t...  2016-04-04 11:46:26   \n",
       "1  #NCST extend their biggest lead of the game wi...  2016-04-04 11:46:26   \n",
       "2  #Everton News - Krul will miss the Monday nigh...  2016-04-04 11:46:26   \n",
       "3  Whew, long day unpacking the Turner house. Now...  2016-04-04 11:46:26   \n",
       "4  Nothing is going to change between now and Wed...  2016-04-04 11:46:26   \n",
       "\n",
       "  claim_by  emotion emoticon    status  \n",
       "0    C02SH      1.0      : (  complete  \n",
       "1    C02SH      0.0      : )  complete  \n",
       "2    C02SH      2.0      NaN  complete  \n",
       "3    C02SH      0.0       :)  complete  \n",
       "4    C02SH      0.0       :)  complete  "
      ]
     },
     "execution_count": 8,
     "metadata": {},
     "output_type": "execute_result"
    }
   ],
   "source": [
    "tweets_df.head()"
   ]
  },
  {
   "cell_type": "markdown",
   "metadata": {},
   "source": [
    "# Gross text analyses"
   ]
  },
  {
   "cell_type": "markdown",
   "metadata": {},
   "source": [
    "First I'm going to run some analyses on just the text properties to see how the Tweets changed"
   ]
  },
  {
   "cell_type": "code",
   "execution_count": 14,
   "metadata": {
    "collapsed": true
   },
   "outputs": [],
   "source": [
    "basic_text_df=tweets_df.loc[:,['chain','iter','processed']]"
   ]
  },
  {
   "cell_type": "markdown",
   "metadata": {},
   "source": [
    "### Tweet length"
   ]
  },
  {
   "cell_type": "markdown",
   "metadata": {},
   "source": [
    "Calculate length of Tweets"
   ]
  },
  {
   "cell_type": "code",
   "execution_count": 48,
   "metadata": {
    "collapsed": false
   },
   "outputs": [],
   "source": [
    "basic_text_df.loc[:,'tweet_length']=basic_text_df.loc[:,'processed'].apply(len)\n",
    "tweet_lengths=basic_text_df.groupby(['chain','iter']).mean().reset_index()"
   ]
  },
  {
   "cell_type": "markdown",
   "metadata": {},
   "source": [
    "Calculate statistics"
   ]
  },
  {
   "cell_type": "code",
   "execution_count": 60,
   "metadata": {
    "collapsed": false
   },
   "outputs": [],
   "source": [
    "iter_group=tweet_lengths.loc[:,['iter','tweet_length']].groupby('iter')\n",
    "tweet_length_stats=pd.DataFrame({})\n",
    "tweet_length_stats.loc[:,'iter']=iter_group.mean().reset_index().loc[:,'iter']\n",
    "tweet_length_stats.loc[:,'mean']=iter_group.mean().reset_index().loc[:,'tweet_length']\n",
    "tweet_length_stats.loc[:,'std']=iter_group.std().reset_index().loc[:,'tweet_length']\n",
    "tweet_length_stats.loc[:,'n']=iter_group.size().reset_index().loc[:,0]\n",
    "tweet_length_stats.loc[:,'sem']=np.divide(tweet_length_stats.loc[:,'std'],np.sqrt(tweet_length_stats.loc[:,'n']))"
   ]
  },
  {
   "cell_type": "code",
   "execution_count": 61,
   "metadata": {
    "collapsed": false
   },
   "outputs": [
    {
     "data": {
      "text/html": [
       "<div>\n",
       "<table border=\"1\" class=\"dataframe\">\n",
       "  <thead>\n",
       "    <tr style=\"text-align: right;\">\n",
       "      <th></th>\n",
       "      <th>iter</th>\n",
       "      <th>mean</th>\n",
       "      <th>std</th>\n",
       "      <th>n</th>\n",
       "      <th>sem</th>\n",
       "    </tr>\n",
       "  </thead>\n",
       "  <tbody>\n",
       "    <tr>\n",
       "      <th>0</th>\n",
       "      <td>0</td>\n",
       "      <td>112.255319</td>\n",
       "      <td>0.000000</td>\n",
       "      <td>9</td>\n",
       "      <td>0.000000</td>\n",
       "    </tr>\n",
       "    <tr>\n",
       "      <th>1</th>\n",
       "      <td>1</td>\n",
       "      <td>60.565350</td>\n",
       "      <td>9.859805</td>\n",
       "      <td>7</td>\n",
       "      <td>3.726656</td>\n",
       "    </tr>\n",
       "    <tr>\n",
       "      <th>2</th>\n",
       "      <td>2</td>\n",
       "      <td>54.088146</td>\n",
       "      <td>8.873994</td>\n",
       "      <td>7</td>\n",
       "      <td>3.354054</td>\n",
       "    </tr>\n",
       "    <tr>\n",
       "      <th>3</th>\n",
       "      <td>3</td>\n",
       "      <td>51.085106</td>\n",
       "      <td>7.498614</td>\n",
       "      <td>7</td>\n",
       "      <td>2.834210</td>\n",
       "    </tr>\n",
       "    <tr>\n",
       "      <th>4</th>\n",
       "      <td>4</td>\n",
       "      <td>48.623100</td>\n",
       "      <td>7.325308</td>\n",
       "      <td>7</td>\n",
       "      <td>2.768706</td>\n",
       "    </tr>\n",
       "  </tbody>\n",
       "</table>\n",
       "</div>"
      ],
      "text/plain": [
       "   iter        mean       std  n       sem\n",
       "0     0  112.255319  0.000000  9  0.000000\n",
       "1     1   60.565350  9.859805  7  3.726656\n",
       "2     2   54.088146  8.873994  7  3.354054\n",
       "3     3   51.085106  7.498614  7  2.834210\n",
       "4     4   48.623100  7.325308  7  2.768706"
      ]
     },
     "execution_count": 61,
     "metadata": {},
     "output_type": "execute_result"
    }
   ],
   "source": [
    "tweet_length_stats.head()"
   ]
  },
  {
   "cell_type": "code",
   "execution_count": 77,
   "metadata": {
    "collapsed": false,
    "scrolled": true
   },
   "outputs": [
    {
     "data": {
      "image/png": "[encoded data removed]",
      "text/plain": [
       "<matplotlib.figure.Figure at 0x11b8d5150>"
      ]
     },
     "metadata": {},
     "output_type": "display_data"
    }
   ],
   "source": [
    "plt.errorbar(x=tweet_length_stats.loc[:,'iter'],y=tweet_length_stats.loc[:,'mean'],yerr=tweet_length_stats.loc[:,'sem'])\n",
    "plt.xlabel('Iteration')\n",
    "plt.ylabel('Tweet Length')\n",
    "plt.xlim([-.5,11.5]);"
   ]
  },
  {
   "cell_type": "markdown",
   "metadata": {},
   "source": [
    "### Tweet word number"
   ]
  },
  {
   "cell_type": "markdown",
   "metadata": {},
   "source": [
    "Calculate number of words per Tweets"
   ]
  },
  {
   "cell_type": "code",
   "execution_count": 81,
   "metadata": {
    "collapsed": false
   },
   "outputs": [],
   "source": [
    "def num_words(txt):\n",
    "    return len(txt.split(' '))\n",
    "\n",
    "basic_text_df.loc[:,'num_words']=basic_text_df.loc[:,'processed'].apply(num_words)\n",
    "num_words=basic_text_df.groupby(['chain','iter']).mean().reset_index()"
   ]
  },
  {
   "cell_type": "markdown",
   "metadata": {},
   "source": [
    "Calculate statistics"
   ]
  },
  {
   "cell_type": "code",
   "execution_count": 82,
   "metadata": {
    "collapsed": false
   },
   "outputs": [],
   "source": [
    "iter_group=num_words.loc[:,['iter','num_words']].groupby('iter')\n",
    "num_words_stats=pd.DataFrame({})\n",
    "num_words_stats.loc[:,'iter']=iter_group.mean().reset_index().loc[:,'iter']\n",
    "num_words_stats.loc[:,'mean']=iter_group.mean().reset_index().loc[:,'num_words']\n",
    "num_words_stats.loc[:,'std']=iter_group.std().reset_index().loc[:,'num_words']\n",
    "num_words_stats.loc[:,'n']=iter_group.size().reset_index().loc[:,0]\n",
    "num_words_stats.loc[:,'sem']=np.divide(num_words_stats.loc[:,'std'],np.sqrt(num_words_stats.loc[:,'n']))"
   ]
  },
  {
   "cell_type": "code",
   "execution_count": 83,
   "metadata": {
    "collapsed": false
   },
   "outputs": [
    {
     "data": {
      "text/html": [
       "<div>\n",
       "<table border=\"1\" class=\"dataframe\">\n",
       "  <thead>\n",
       "    <tr style=\"text-align: right;\">\n",
       "      <th></th>\n",
       "      <th>iter</th>\n",
       "      <th>mean</th>\n",
       "      <th>std</th>\n",
       "      <th>n</th>\n",
       "      <th>sem</th>\n",
       "    </tr>\n",
       "  </thead>\n",
       "  <tbody>\n",
       "    <tr>\n",
       "      <th>0</th>\n",
       "      <td>0</td>\n",
       "      <td>19.191489</td>\n",
       "      <td>0.000000</td>\n",
       "      <td>9</td>\n",
       "      <td>0.000000</td>\n",
       "    </tr>\n",
       "    <tr>\n",
       "      <th>1</th>\n",
       "      <td>1</td>\n",
       "      <td>12.063830</td>\n",
       "      <td>2.181309</td>\n",
       "      <td>7</td>\n",
       "      <td>0.824457</td>\n",
       "    </tr>\n",
       "    <tr>\n",
       "      <th>2</th>\n",
       "      <td>2</td>\n",
       "      <td>10.243161</td>\n",
       "      <td>1.320513</td>\n",
       "      <td>7</td>\n",
       "      <td>0.499107</td>\n",
       "    </tr>\n",
       "    <tr>\n",
       "      <th>3</th>\n",
       "      <td>3</td>\n",
       "      <td>9.741641</td>\n",
       "      <td>1.088815</td>\n",
       "      <td>7</td>\n",
       "      <td>0.411533</td>\n",
       "    </tr>\n",
       "    <tr>\n",
       "      <th>4</th>\n",
       "      <td>4</td>\n",
       "      <td>9.358663</td>\n",
       "      <td>1.064640</td>\n",
       "      <td>7</td>\n",
       "      <td>0.402396</td>\n",
       "    </tr>\n",
       "  </tbody>\n",
       "</table>\n",
       "</div>"
      ],
      "text/plain": [
       "   iter       mean       std  n       sem\n",
       "0     0  19.191489  0.000000  9  0.000000\n",
       "1     1  12.063830  2.181309  7  0.824457\n",
       "2     2  10.243161  1.320513  7  0.499107\n",
       "3     3   9.741641  1.088815  7  0.411533\n",
       "4     4   9.358663  1.064640  7  0.402396"
      ]
     },
     "execution_count": 83,
     "metadata": {},
     "output_type": "execute_result"
    }
   ],
   "source": [
    "num_words_stats.head()"
   ]
  },
  {
   "cell_type": "code",
   "execution_count": 85,
   "metadata": {
    "collapsed": false,
    "scrolled": true
   },
   "outputs": [
    {
     "data": {
      "image/png": "[encoded data removed]",
      "text/plain": [
       "<matplotlib.figure.Figure at 0x11bbb7050>"
      ]
     },
     "metadata": {},
     "output_type": "display_data"
    }
   ],
   "source": [
    "plt.errorbar(x=num_words_stats.loc[:,'iter'],y=num_words_stats.loc[:,'mean'],yerr=num_words_stats.loc[:,'sem'])\n",
    "plt.xlabel('Iteration')\n",
    "plt.ylabel('Number of words')\n",
    "plt.xlim([-.5,11.5]);"
   ]
  },
  {
   "cell_type": "markdown",
   "metadata": {},
   "source": [
    "So Tweets got shorter over time and converged to around 8 words"
   ]
  },
  {
   "cell_type": "markdown",
   "metadata": {},
   "source": [
    "# Does classification improve over time?"
   ]
  },
  {
   "cell_type": "markdown",
   "metadata": {},
   "source": [
    "And now let's see if Tweets got more positive/negative over iterations"
   ]
  },
  {
   "cell_type": "markdown",
   "metadata": {},
   "source": [
    "## Labeled corpus"
   ]
  },
  {
   "cell_type": "markdown",
   "metadata": {},
   "source": [
    "This is a set of Tweets I scraped a while back that another lab hand-labeled. Here I'm going to focus on just the positive and negative ones (I already used a subset of the neutral ones for the experiment)"
   ]
  },
  {
   "cell_type": "code",
   "execution_count": 146,
   "metadata": {
    "collapsed": false
   },
   "outputs": [
    {
     "name": "stdout",
     "output_type": "stream",
     "text": [
      "Processing tweets...\n",
      "['positive', 'negative', 'neutral']\n",
      "[2287, 837, 3035]\n"
     ]
    }
   ],
   "source": [
    "## Load tweets and positive (1), negative (0) labels\n",
    "def load_tweets(fname):\n",
    "    # Load tweets text\n",
    "\n",
    "    if not os.path.exists(fname):\n",
    "        print 'Processing tweets...'\n",
    "\n",
    "        fold_name='../semval'\n",
    "        #file_name='tweet-a.tsv' # a is context rating\n",
    "        file_name='tweet-b-actual.tsv' # b is message rating\n",
    "        full_name=os.path.join(fold_name,file_name)\n",
    "        tweet_text_temp,tweet_label_temp=tweet_preprocess.load_tweets(full_name)\n",
    "\n",
    "        tweet_text=[]\n",
    "        tweet_label=[]\n",
    "        for ttt,tlt in zip(tweet_text_temp,tweet_label_temp):\n",
    "\n",
    "            if tlt=='positive' or tlt=='negative':\n",
    "                tweet_text.append(ttt)\n",
    "\n",
    "                # labels\n",
    "                if tlt=='positive':\n",
    "                    tweet_label.append(1)\n",
    "                else:\n",
    "                    tweet_label.append(0)\n",
    "        with open(fname, 'w') as f:\n",
    "            pk.dump([tweet_text,tweet_label], f)\n",
    "    else:\n",
    "        print 'Loading processed tweets...'\n",
    "        with open(fname) as f:\n",
    "            tweet_text,tweet_label = pk.load(f)\n",
    "        print 'Load complete'\n",
    "\n",
    "\n",
    "    return tweet_text,tweet_label\n",
    "\n",
    "fname='../semval/loaded_tweets_unedited.pickle'\n",
    "tweet_text_raw,tweet_label_raw=load_tweets(fname)"
   ]
  },
  {
   "cell_type": "code",
   "execution_count": 151,
   "metadata": {
    "collapsed": false
   },
   "outputs": [],
   "source": [
    "labeled_df=pd.DataFrame({'processed':tweet_text_raw,'label':tweet_label_raw})"
   ]
  },
  {
   "cell_type": "markdown",
   "metadata": {},
   "source": [
    "## Sentiment classifier"
   ]
  },
  {
   "cell_type": "markdown",
   "metadata": {},
   "source": [
    "I'm going to use a Naive Bayes classifier to estimate the sentiment of the Tweets"
   ]
  },
  {
   "cell_type": "markdown",
   "metadata": {},
   "source": [
    "Relevant packages"
   ]
  },
  {
   "cell_type": "code",
   "execution_count": 168,
   "metadata": {
    "collapsed": true
   },
   "outputs": [],
   "source": [
    "from sklearn.cross_validation import train_test_split,StratifiedShuffleSplit\n",
    "from sklearn.feature_extraction.text import TfidfVectorizer\n",
    "from sklearn.feature_extraction.text import CountVectorizer\n",
    "from sklearn.feature_selection import SelectKBest, chi2\n",
    "from nltk.stem.snowball import SnowballStemmer\n",
    "from nltk.corpus import stopwords\n",
    "from sklearn.naive_bayes import BernoulliNB"
   ]
  },
  {
   "cell_type": "code",
   "execution_count": 159,
   "metadata": {
    "collapsed": true
   },
   "outputs": [],
   "source": [
    "def nb_classifier(tweet_train, tweet_test, label_train, label_test,K):\n",
    "    # Run Naive Bayes classifier on binary presence\n",
    "    # Returns 1) word2vec transformation, 2) the nb classifier that turns the vector representation into a sentiment\n",
    "    # 3) training accuracy and 4) testing accuracy\n",
    "    # note, this requires the \n",
    "\n",
    "    ## Vectorize training words\n",
    "    train_count_vec=CountVectorizer(binary=True)\n",
    "    train_count_words=train_count_vec.fit_transform(tweet_train)\n",
    "    test_count_words=train_count_vec.transform(tweet_test)\n",
    "    train_feat_names=train_count_vec.get_feature_names()\n",
    "\n",
    "    # Reduce feature space to K best features\n",
    "    ch2 = SelectKBest(chi2, k=K)\n",
    "    X_train = ch2.fit_transform(train_count_words, label_train)\n",
    "    X_test = ch2.transform(test_count_words)\n",
    "\n",
    "    feature_names=train_count_vec.get_feature_names()\n",
    "    k_feature_inds=[]\n",
    "    for ii in ch2.get_support(indices=True): \n",
    "        k_feature_inds.append(feature_names[ii])\n",
    "\n",
    "    # NB model\n",
    "    nb_class=BernoulliNB()\n",
    "    nb_class.fit(X_train,label_train)\n",
    "    \n",
    "\n",
    "    train_acc=nb_class.score(X_train,label_train)\n",
    "    test_acc=nb_class.score(X_test,label_test)\n",
    "\n",
    "    return ch2,nb_class,train_acc,test_acc"
   ]
  },
  {
   "cell_type": "markdown",
   "metadata": {},
   "source": [
    "And a function to clean and stem the text"
   ]
  },
  {
   "cell_type": "code",
   "execution_count": null,
   "metadata": {
    "collapsed": true
   },
   "outputs": [],
   "source": [
    "# Identify stopwords to remove\n",
    "sw=stopwords.words('english')\n",
    "\n",
    "# create stemmer to stem words\n",
    "stemmer=SnowballStemmer(\"english\")\n",
    "\n",
    "def clean_text(txt):\n",
    "    txt=txt.split(' ')\n",
    "    txt=[stemmer.stem(tt.decode('utf-8')) for tt in txt if not tt.decode('utf-8') in sw]\n",
    "    txt=' '.join(txt)\n",
    "    return txt"
   ]
  },
  {
   "cell_type": "markdown",
   "metadata": {},
   "source": [
    "And let's clean our experimental and labeled tweets"
   ]
  },
  {
   "cell_type": "code",
   "execution_count": 153,
   "metadata": {
    "collapsed": false
   },
   "outputs": [
    {
     "data": {
      "text/html": [
       "<div>\n",
       "<table border=\"1\" class=\"dataframe\">\n",
       "  <thead>\n",
       "    <tr style=\"text-align: right;\">\n",
       "      <th></th>\n",
       "      <th>index</th>\n",
       "      <th>subj</th>\n",
       "      <th>exp_id</th>\n",
       "      <th>chain</th>\n",
       "      <th>iter</th>\n",
       "      <th>tweet</th>\n",
       "      <th>observed</th>\n",
       "      <th>recalled</th>\n",
       "      <th>processed</th>\n",
       "      <th>claim_time</th>\n",
       "      <th>claim_by</th>\n",
       "      <th>emotion</th>\n",
       "      <th>emoticon</th>\n",
       "      <th>status</th>\n",
       "      <th>stemmed</th>\n",
       "    </tr>\n",
       "  </thead>\n",
       "  <tbody>\n",
       "    <tr>\n",
       "      <th>0</th>\n",
       "      <td>892</td>\n",
       "      <td>base0</td>\n",
       "      <td>itTwit_v2</td>\n",
       "      <td>0</td>\n",
       "      <td>0</td>\n",
       "      <td>0</td>\n",
       "      <td>NaN</td>\n",
       "      <td>NaN</td>\n",
       "      <td>Entourage then going to Eagles training camp t...</td>\n",
       "      <td>2016-04-04 11:46:26</td>\n",
       "      <td>C02SH</td>\n",
       "      <td>1.0</td>\n",
       "      <td>: (</td>\n",
       "      <td>complete</td>\n",
       "      <td>entourag go eagl train camp tomorrow @kevinmca...</td>\n",
       "    </tr>\n",
       "    <tr>\n",
       "      <th>1</th>\n",
       "      <td>893</td>\n",
       "      <td>base0</td>\n",
       "      <td>itTwit_v2</td>\n",
       "      <td>0</td>\n",
       "      <td>0</td>\n",
       "      <td>1</td>\n",
       "      <td>NaN</td>\n",
       "      <td>NaN</td>\n",
       "      <td>#NCST extend their biggest lead of the game wi...</td>\n",
       "      <td>2016-04-04 11:46:26</td>\n",
       "      <td>C02SH</td>\n",
       "      <td>0.0</td>\n",
       "      <td>: )</td>\n",
       "      <td>complete</td>\n",
       "      <td>#ncst extend biggest lead game lorenzo brown t...</td>\n",
       "    </tr>\n",
       "    <tr>\n",
       "      <th>2</th>\n",
       "      <td>894</td>\n",
       "      <td>base0</td>\n",
       "      <td>itTwit_v2</td>\n",
       "      <td>0</td>\n",
       "      <td>0</td>\n",
       "      <td>2</td>\n",
       "      <td>NaN</td>\n",
       "      <td>NaN</td>\n",
       "      <td>#Everton News - Krul will miss the Monday nigh...</td>\n",
       "      <td>2016-04-04 11:46:26</td>\n",
       "      <td>C02SH</td>\n",
       "      <td>2.0</td>\n",
       "      <td>NaN</td>\n",
       "      <td>complete</td>\n",
       "      <td>#everton news - krul miss monday night clash e...</td>\n",
       "    </tr>\n",
       "    <tr>\n",
       "      <th>3</th>\n",
       "      <td>895</td>\n",
       "      <td>base0</td>\n",
       "      <td>itTwit_v2</td>\n",
       "      <td>0</td>\n",
       "      <td>0</td>\n",
       "      <td>3</td>\n",
       "      <td>NaN</td>\n",
       "      <td>NaN</td>\n",
       "      <td>Whew, long day unpacking the Turner house. Now...</td>\n",
       "      <td>2016-04-04 11:46:26</td>\n",
       "      <td>C02SH</td>\n",
       "      <td>0.0</td>\n",
       "      <td>:)</td>\n",
       "      <td>complete</td>\n",
       "      <td>whew, long day unpack turner house. now movi k...</td>\n",
       "    </tr>\n",
       "    <tr>\n",
       "      <th>4</th>\n",
       "      <td>896</td>\n",
       "      <td>base0</td>\n",
       "      <td>itTwit_v2</td>\n",
       "      <td>0</td>\n",
       "      <td>0</td>\n",
       "      <td>4</td>\n",
       "      <td>NaN</td>\n",
       "      <td>NaN</td>\n",
       "      <td>Nothing is going to change between now and Wed...</td>\n",
       "      <td>2016-04-04 11:46:26</td>\n",
       "      <td>C02SH</td>\n",
       "      <td>0.0</td>\n",
       "      <td>:)</td>\n",
       "      <td>complete</td>\n",
       "      <td>noth go chang wednesday. if acta went long w/o...</td>\n",
       "    </tr>\n",
       "  </tbody>\n",
       "</table>\n",
       "</div>"
      ],
      "text/plain": [
       "   index   subj     exp_id  chain  iter  tweet observed recalled  \\\n",
       "0    892  base0  itTwit_v2      0     0      0      NaN      NaN   \n",
       "1    893  base0  itTwit_v2      0     0      1      NaN      NaN   \n",
       "2    894  base0  itTwit_v2      0     0      2      NaN      NaN   \n",
       "3    895  base0  itTwit_v2      0     0      3      NaN      NaN   \n",
       "4    896  base0  itTwit_v2      0     0      4      NaN      NaN   \n",
       "\n",
       "                                           processed           claim_time  \\\n",
       "0  Entourage then going to Eagles training camp t...  2016-04-04 11:46:26   \n",
       "1  #NCST extend their biggest lead of the game wi...  2016-04-04 11:46:26   \n",
       "2  #Everton News - Krul will miss the Monday nigh...  2016-04-04 11:46:26   \n",
       "3  Whew, long day unpacking the Turner house. Now...  2016-04-04 11:46:26   \n",
       "4  Nothing is going to change between now and Wed...  2016-04-04 11:46:26   \n",
       "\n",
       "  claim_by  emotion emoticon    status  \\\n",
       "0    C02SH      1.0      : (  complete   \n",
       "1    C02SH      0.0      : )  complete   \n",
       "2    C02SH      2.0      NaN  complete   \n",
       "3    C02SH      0.0       :)  complete   \n",
       "4    C02SH      0.0       :)  complete   \n",
       "\n",
       "                                             stemmed  \n",
       "0  entourag go eagl train camp tomorrow @kevinmca...  \n",
       "1  #ncst extend biggest lead game lorenzo brown t...  \n",
       "2  #everton news - krul miss monday night clash e...  \n",
       "3  whew, long day unpack turner house. now movi k...  \n",
       "4  noth go chang wednesday. if acta went long w/o...  "
      ]
     },
     "execution_count": 153,
     "metadata": {},
     "output_type": "execute_result"
    }
   ],
   "source": [
    "tweets_df.loc[:,'stemmed']=tweets_df.loc[:,'processed'].apply(clean_text)\n",
    "labeled_df.loc[:,'stemmed']=labeled_df.loc[:,'processed'].apply(clean_text)\n",
    "\n",
    "tweets_df.head()"
   ]
  },
  {
   "cell_type": "markdown",
   "metadata": {},
   "source": [
    "## Aggregate performance"
   ]
  },
  {
   "cell_type": "markdown",
   "metadata": {},
   "source": [
    "If we take all of our Tweets, how does the classifier do?"
   ]
  },
  {
   "cell_type": "code",
   "execution_count": 203,
   "metadata": {
    "collapsed": true
   },
   "outputs": [],
   "source": [
    "emotion_df=tweets_df.loc[np.logical_or(tweets_df.emotion==0,tweets_df.emotion==1),:]\n",
    "emotion_df.loc[:,'label']=emotion_df.loc[:,'emotion']==0\n",
    "tweet_train=emotion_df.loc[:,'stemmed']\n",
    "label_train=emotion_df.loc[:,'label']"
   ]
  },
  {
   "cell_type": "code",
   "execution_count": 238,
   "metadata": {
    "collapsed": true
   },
   "outputs": [],
   "source": [
    "pos_df=labeled_df.loc[labeled_df.label==1,:]\n",
    "pos_df=pos_df.sample(n=400,replace=False)\n",
    "\n",
    "neg_df=labeled_df.loc[labeled_df.label==0,:]\n",
    "neg_df=neg_df.sample(n=400,replace=False)\n",
    "\n",
    "labeled_resamp_df=pos_df.append(neg_df)\n",
    "tweet_test=labeled_resamp_df.loc[:,'stemmed']\n",
    "label_test=labeled_resamp_df.loc[:,'label']"
   ]
  },
  {
   "cell_type": "code",
   "execution_count": 248,
   "metadata": {
    "collapsed": false
   },
   "outputs": [
    {
     "name": "stdout",
     "output_type": "stream",
     "text": [
      "0.50125\n"
     ]
    }
   ],
   "source": [
    "K=100\n",
    "ch2,nb_class,train_acc,test_acc=nb_classifier(tweet_train, tweet_test, label_train, label_test,K)\n",
    "print test_acc"
   ]
  },
  {
   "cell_type": "markdown",
   "metadata": {},
   "source": [
    "Ouch...not good"
   ]
  },
  {
   "cell_type": "markdown",
   "metadata": {},
   "source": [
    "## By iteration"
   ]
  },
  {
   "cell_type": "markdown",
   "metadata": {},
   "source": [
    "Do later Tweets improve classifier performance?"
   ]
  },
  {
   "cell_type": "code",
   "execution_count": 249,
   "metadata": {
    "collapsed": false
   },
   "outputs": [],
   "source": [
    "num_iter=np.unique(tweets_df.iter)\n",
    "all_test_acc=[]\n",
    "for ii in num_iter:\n",
    "    curr_tweets=tweets_df.loc[tweets_df.iter==ii,:]\n",
    "    emotion_df=curr_tweets.loc[np.logical_or(curr_tweets.emotion==0,curr_tweets.emotion==1),:]\n",
    "    emotion_df.loc[:,'label']=emotion_df.loc[:,'emotion']==0\n",
    "    tweet_train=emotion_df.loc[:,'stemmed']\n",
    "    label_train=emotion_df.loc[:,'label']\n",
    "    K=100\n",
    "    ch2,nb_class,train_acc,test_acc=nb_classifier(tweet_train, tweet_test, label_train, label_test,K)\n",
    "    all_test_acc.append(test_acc)  \n"
   ]
  },
  {
   "cell_type": "code",
   "execution_count": 250,
   "metadata": {
    "collapsed": false
   },
   "outputs": [
    {
     "data": {
      "image/png": "[encoded data removed]",
      "text/plain": [
       "<matplotlib.figure.Figure at 0x11e600350>"
      ]
     },
     "metadata": {},
     "output_type": "display_data"
    }
   ],
   "source": [
    "plt.plot(num_iter.tolist(),all_test_acc)\n",
    "plt.xlabel('Iteration')\n",
    "plt.ylabel('Test accuracy')\n",
    "plt.xlim([-.5,11.5]);"
   ]
  },
  {
   "cell_type": "markdown",
   "metadata": {},
   "source": [
    "Ooof, that's a lot of noise x.X"
   ]
  },
  {
   "cell_type": "markdown",
   "metadata": {},
   "source": [
    "# Interim conclusions"
   ]
  },
  {
   "cell_type": "markdown",
   "metadata": {},
   "source": [
    "Ok, so this isn't working--The Tweets are not conveying more information about positive and negative sentiments as they are passed on over time. There may be some manipulations we can try to get more signal out:\n",
    "\n",
    "1. Make our manipulation much stronger-It's possible that people didn't really pay attentiont to the emoticons. In a future version of the experiment, we could try giving stronger cues about the emotions of the Tweets (e.g., like give a cover story that we're interested in whether happy tweets are more memorable than sad tweets and use a condition-blocked design).\n",
    "2. Give people more time to read Tweets and give people fewer Tweets-There's a pretty sharp decline in the length of Tweets over iterations. Also, many subjects reported getting bored or frustrated with the experiment. Making the experiment easier for them might give us better quality Tweets\n",
    "3. More data-We only used 48 Tweets total, and we're only using 2/3's of those because we're focusing on the emotional ones. Adding more chains with different initial Tweets will likely help.\n",
    "\n",
    "None of these are mutually exclusive so the next version of this will hopefully be much more powerful"
   ]
  },
  {
   "cell_type": "code",
   "execution_count": null,
   "metadata": {
    "collapsed": true
   },
   "outputs": [],
   "source": []
  }
 ],
 "metadata": {
  "kernelspec": {
   "display_name": "Python 2",
   "language": "python",
   "name": "python2"
  },
  "language_info": {
   "codemirror_mode": {
    "name": "ipython",
    "version": 2
   },
   "file_extension": ".py",
   "mimetype": "text/x-python",
   "name": "python",
   "nbconvert_exporter": "python",
   "pygments_lexer": "ipython2",
   "version": "2.7.11"
  }
 },
 "nbformat": 4,
 "nbformat_minor": 0
}
