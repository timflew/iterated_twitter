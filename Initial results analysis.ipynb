{
 "cells": [
  {
   "cell_type": "code",
   "execution_count": 1,
   "metadata": {
    "collapsed": false
   },
   "outputs": [],
   "source": [
    "%matplotlib inline\n",
    "import pandas as pd\n",
    "import matplotlib.pyplot as plt\n",
    "import numpy as np"
   ]
  },
  {
   "cell_type": "markdown",
   "metadata": {},
   "source": [
    "Ok so I asked Soomin to run a naive Bayes classifier on some labeled data and to use the labeled words from those analyses to get positive-negative rankings for each word and then to calculate the average sentiment of each Tweet in our experiment. Positive values indicate more positive sentiments (and likewise for negative)"
   ]
  },
  {
   "cell_type": "markdown",
   "metadata": {},
   "source": [
    "First, a helper function to identify the emotion of each Tweet"
   ]
  },
  {
   "cell_type": "code",
   "execution_count": 2,
   "metadata": {
    "collapsed": true
   },
   "outputs": [],
   "source": [
    "def find_emotion(x):\n",
    "    if (':)' in x) or (':-)' in x) or (': )' in x):\n",
    "        return 'Pos'\n",
    "    elif (':(' in x) or (':-(' in x) or (': (' in x): \n",
    "        return 'Neg'\n",
    "    else:\n",
    "        return 'Neut'"
   ]
  },
  {
   "cell_type": "markdown",
   "metadata": {},
   "source": [
    "## Original Tweets"
   ]
  },
  {
   "cell_type": "code",
   "execution_count": 10,
   "metadata": {
    "collapsed": false
   },
   "outputs": [
    {
     "data": {
      "text/plain": [
       "' friday, octob 19th - talib kweli: idl warship   res     adrienn arsht center! '"
      ]
     },
     "execution_count": 10,
     "metadata": {},
     "output_type": "execute_result"
    }
   ],
   "source": [
    "obs_df.iloc[1,0]"
   ]
  },
  {
   "cell_type": "code",
   "execution_count": 7,
   "metadata": {
    "collapsed": false
   },
   "outputs": [
    {
     "data": {
      "text/html": [
       "<div>\n",
       "<table border=\"1\" class=\"dataframe\">\n",
       "  <thead>\n",
       "    <tr style=\"text-align: right;\">\n",
       "      <th></th>\n",
       "      <th>tweet</th>\n",
       "      <th>sent</th>\n",
       "      <th>emot</th>\n",
       "    </tr>\n",
       "  </thead>\n",
       "  <tbody>\n",
       "    <tr>\n",
       "      <th>0</th>\n",
       "      <td>get     vote   wi tomorrow! rt @michellemalki...</td>\n",
       "      <td>-0.016316</td>\n",
       "      <td>Neut</td>\n",
       "    </tr>\n",
       "    <tr>\n",
       "      <th>1</th>\n",
       "      <td>friday, octob 19th - talib kweli: idl warship...</td>\n",
       "      <td>0.758229</td>\n",
       "      <td>Neut</td>\n",
       "    </tr>\n",
       "    <tr>\n",
       "      <th>2</th>\n",
       "      <td>bueno aires--argentina late wednesday approv ...</td>\n",
       "      <td>-0.292872</td>\n",
       "      <td>Neut</td>\n",
       "    </tr>\n",
       "    <tr>\n",
       "      <th>3</th>\n",
       "      <td>at   vitali klitschko parti udar meet   odess...</td>\n",
       "      <td>-0.013599</td>\n",
       "      <td>Neut</td>\n",
       "    </tr>\n",
       "    <tr>\n",
       "      <th>4</th>\n",
       "      <td>i saw kayvan novak tonight aka phonejack aka ...</td>\n",
       "      <td>0.279683</td>\n",
       "      <td>Neut</td>\n",
       "    </tr>\n",
       "  </tbody>\n",
       "</table>\n",
       "</div>"
      ],
      "text/plain": [
       "                                               tweet      sent  emot\n",
       "0   get     vote   wi tomorrow! rt @michellemalki... -0.016316  Neut\n",
       "1   friday, octob 19th - talib kweli: idl warship...  0.758229  Neut\n",
       "2   bueno aires--argentina late wednesday approv ... -0.292872  Neut\n",
       "3   at   vitali klitschko parti udar meet   odess... -0.013599  Neut\n",
       "4   i saw kayvan novak tonight aka phonejack aka ...  0.279683  Neut"
      ]
     },
     "execution_count": 7,
     "metadata": {},
     "output_type": "execute_result"
    },
    {
     "data": {
      "image/png": "[encoded data removed]",
      "text/plain": [
       "<matplotlib.figure.Figure at 0x1126e48d0>"
      ]
     },
     "metadata": {},
     "output_type": "display_data"
    }
   ],
   "source": [
    "# data_v1-Accidentally collected rough pilot data\n",
    "# data_v2\n",
    "obs_df=pd.read_csv('data_v2/obs_tweet_score.csv',header=None)\n",
    "obs_df.columns=['tweet','sent']\n",
    "obs_df.loc[:,'emot']=obs_df.loc[:,'tweet'].apply(find_emotion)\n",
    "obs_df.sent.hist()\n",
    "obs_df.head()"
   ]
  },
  {
   "cell_type": "code",
   "execution_count": 6,
   "metadata": {
    "collapsed": false
   },
   "outputs": [
    {
     "data": {
      "text/html": [
       "<div>\n",
       "<table border=\"1\" class=\"dataframe\">\n",
       "  <thead>\n",
       "    <tr style=\"text-align: right;\">\n",
       "      <th></th>\n",
       "      <th>emot</th>\n",
       "      <th>mean</th>\n",
       "      <th>sem</th>\n",
       "    </tr>\n",
       "  </thead>\n",
       "  <tbody>\n",
       "    <tr>\n",
       "      <th>0</th>\n",
       "      <td>Neut</td>\n",
       "      <td>-0.048352</td>\n",
       "      <td>0.040132</td>\n",
       "    </tr>\n",
       "  </tbody>\n",
       "</table>\n",
       "</div>"
      ],
      "text/plain": [
       "   emot      mean       sem\n",
       "0  Neut -0.048352  0.040132"
      ]
     },
     "execution_count": 6,
     "metadata": {},
     "output_type": "execute_result"
    }
   ],
   "source": [
    "obs_emotions=obs_df.loc[:,['sent','emot']].groupby('emot')\n",
    "\n",
    "obs_mean=obs_emotions.mean().reset_index()\n",
    "obs_sem=obs_emotions.std().divide(np.sqrt(obs_emotions.size()),axis=0).reset_index()\n",
    "\n",
    "obs_group=pd.merge(obs_mean,obs_sem,on='emot')\n",
    "obs_group.columns=['emot','mean','sem']\n",
    "obs_group"
   ]
  },
  {
   "cell_type": "markdown",
   "metadata": {},
   "source": [
    "Ok, no initial difference in emotional valence, which makes sense since these were neutral tweets we gave random emotions"
   ]
  },
  {
   "cell_type": "markdown",
   "metadata": {},
   "source": [
    "## Recalled Tweets"
   ]
  },
  {
   "cell_type": "code",
   "execution_count": 14,
   "metadata": {
    "collapsed": false
   },
   "outputs": [
    {
     "data": {
      "text/html": [
       "<div>\n",
       "<table border=\"1\" class=\"dataframe\">\n",
       "  <thead>\n",
       "    <tr style=\"text-align: right;\">\n",
       "      <th></th>\n",
       "      <th>tweet</th>\n",
       "      <th>sent</th>\n",
       "      <th>emot</th>\n",
       "    </tr>\n",
       "  </thead>\n",
       "  <tbody>\n",
       "    <tr>\n",
       "      <th>0</th>\n",
       "      <td>get     vote   wi tomorrow @michelle... wisco...</td>\n",
       "      <td>0.066089</td>\n",
       "      <td>Neg</td>\n",
       "    </tr>\n",
       "    <tr>\n",
       "      <th>1</th>\n",
       "      <td>jason varitek may return   job  - flash playe...</td>\n",
       "      <td>0.058889</td>\n",
       "      <td>Neg</td>\n",
       "    </tr>\n",
       "    <tr>\n",
       "      <th>2</th>\n",
       "      <td>irish sunspot tuesday: kall kean ralli   troo...</td>\n",
       "      <td>-0.159783</td>\n",
       "      <td>Pos</td>\n",
       "    </tr>\n",
       "    <tr>\n",
       "      <th>3</th>\n",
       "      <td>i ad   video @youtub a diseas</td>\n",
       "      <td>0.103240</td>\n",
       "      <td>Neut</td>\n",
       "    </tr>\n",
       "    <tr>\n",
       "      <th>4</th>\n",
       "      <td>bueno air - argentina lower   legal age   vot...</td>\n",
       "      <td>-0.362398</td>\n",
       "      <td>Pos</td>\n",
       "    </tr>\n",
       "  </tbody>\n",
       "</table>\n",
       "</div>"
      ],
      "text/plain": [
       "                                               tweet      sent  emot\n",
       "0   get     vote   wi tomorrow @michelle... wisco...  0.066089   Neg\n",
       "1   jason varitek may return   job  - flash playe...  0.058889   Neg\n",
       "2   irish sunspot tuesday: kall kean ralli   troo... -0.159783   Pos\n",
       "3                     i ad   video @youtub a diseas   0.103240  Neut\n",
       "4   bueno air - argentina lower   legal age   vot... -0.362398   Pos"
      ]
     },
     "execution_count": 14,
     "metadata": {},
     "output_type": "execute_result"
    },
    {
     "data": {
      "image/png": "[encoded data removed]",
      "text/plain": [
       "<matplotlib.figure.Figure at 0x115260f10>"
      ]
     },
     "metadata": {},
     "output_type": "display_data"
    }
   ],
   "source": [
    "resp_df=pd.read_csv('data_v2/rec_tweet_score.csv',header=None)\n",
    "resp_df.columns=['tweet','sent']\n",
    "resp_df.loc[:,'emot']=resp_df.loc[:,'tweet'].apply(find_emotion)\n",
    "\n",
    "resp_df.sent.hist()\n",
    "resp_df.head()"
   ]
  },
  {
   "cell_type": "code",
   "execution_count": 15,
   "metadata": {
    "collapsed": false
   },
   "outputs": [
    {
     "data": {
      "text/html": [
       "<div>\n",
       "<table border=\"1\" class=\"dataframe\">\n",
       "  <thead>\n",
       "    <tr style=\"text-align: right;\">\n",
       "      <th></th>\n",
       "      <th>emot</th>\n",
       "      <th>mean</th>\n",
       "      <th>sem</th>\n",
       "    </tr>\n",
       "  </thead>\n",
       "  <tbody>\n",
       "    <tr>\n",
       "      <th>0</th>\n",
       "      <td>Neg</td>\n",
       "      <td>-0.060968</td>\n",
       "      <td>0.042871</td>\n",
       "    </tr>\n",
       "    <tr>\n",
       "      <th>1</th>\n",
       "      <td>Neut</td>\n",
       "      <td>-0.011879</td>\n",
       "      <td>0.045649</td>\n",
       "    </tr>\n",
       "    <tr>\n",
       "      <th>2</th>\n",
       "      <td>Pos</td>\n",
       "      <td>-0.029921</td>\n",
       "      <td>0.042638</td>\n",
       "    </tr>\n",
       "  </tbody>\n",
       "</table>\n",
       "</div>"
      ],
      "text/plain": [
       "   emot      mean       sem\n",
       "0   Neg -0.060968  0.042871\n",
       "1  Neut -0.011879  0.045649\n",
       "2   Pos -0.029921  0.042638"
      ]
     },
     "execution_count": 15,
     "metadata": {},
     "output_type": "execute_result"
    }
   ],
   "source": [
    "resp_emotions=resp_df.loc[:,['sent','emot']].groupby('emot')\n",
    "\n",
    "resp_mean=resp_emotions.mean().reset_index()\n",
    "resp_sem=resp_emotions.std().divide(np.sqrt(resp_emotions.size()),axis=0).reset_index()\n",
    "\n",
    "resp_group=pd.merge(resp_mean,resp_sem,on='emot')\n",
    "resp_group.columns=['emot','mean','sem']\n",
    "resp_group"
   ]
  },
  {
   "cell_type": "markdown",
   "metadata": {},
   "source": [
    "Hmmm doesn't seem like we're seeing an effect here. I think there's something my emotion identification code is missing because the number of Tweets from each category becomes imbalanced. These might be the recalled Tweets without the next iteration processing set up?"
   ]
  },
  {
   "cell_type": "markdown",
   "metadata": {},
   "source": [
    "Notes to self:\n",
    "* Need to check with Soomin about what iteration this is\n",
    "* I think my emotion identfication code is off. check what's up with that"
   ]
  },
  {
   "cell_type": "code",
   "execution_count": 16,
   "metadata": {
    "collapsed": false
   },
   "outputs": [
    {
     "name": "stdout",
     "output_type": "stream",
     "text": [
      "emot\n",
      "Neg      40\n",
      "Neut     93\n",
      "Pos     104\n",
      "dtype: int64\n",
      "emot\n",
      "Neut    47\n",
      "dtype: int64\n"
     ]
    }
   ],
   "source": [
    "print resp_emotions.size()\n",
    "print obs_emotions.size()"
   ]
  },
  {
   "cell_type": "code",
   "execution_count": null,
   "metadata": {
    "collapsed": true
   },
   "outputs": [],
   "source": []
  }
 ],
 "metadata": {
  "kernelspec": {
   "display_name": "Python 2",
   "language": "python",
   "name": "python2"
  },
  "language_info": {
   "codemirror_mode": {
    "name": "ipython",
    "version": 2
   },
   "file_extension": ".py",
   "mimetype": "text/x-python",
   "name": "python",
   "nbconvert_exporter": "python",
   "pygments_lexer": "ipython2",
   "version": "2.7.9"
  }
 },
 "nbformat": 4,
 "nbformat_minor": 0
}
